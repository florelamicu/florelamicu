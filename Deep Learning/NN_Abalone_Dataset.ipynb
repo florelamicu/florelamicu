{
 "cells": [
  {
   "cell_type": "code",
   "execution_count": 1,
   "metadata": {},
   "outputs": [
    {
     "name": "stdout",
     "output_type": "stream",
     "text": [
      "(4177, 9)\n",
      "   0      1      2      3       4       5       6      7   8\n",
      "0  M  0.455  0.365  0.095  0.5140  0.2245  0.1010  0.150  15\n",
      "1  M  0.350  0.265  0.090  0.2255  0.0995  0.0485  0.070   7\n",
      "2  F  0.530  0.420  0.135  0.6770  0.2565  0.1415  0.210   9\n",
      "3  M  0.440  0.365  0.125  0.5160  0.2155  0.1140  0.155  10\n",
      "4  I  0.330  0.255  0.080  0.2050  0.0895  0.0395  0.055   7\n"
     ]
    }
   ],
   "source": [
    "# load and summarize the abalone dataset\n",
    "from pandas import read_csv\n",
    "from matplotlib import pyplot\n",
    "# load dataset\n",
    "url = 'https://raw.githubusercontent.com/jbrownlee/Datasets/master/abalone.csv'\n",
    "dataframe = read_csv(url, header=None)\n",
    "# summarize shape\n",
    "print(dataframe.shape)\n",
    "# summarize first few lines\n",
    "print(dataframe.head())"
   ]
  },
  {
   "cell_type": "markdown",
   "metadata": {},
   "source": [
    "# In this section, we will develop a regression MLP model for the Abalone dataset."
   ]
  },
  {
   "cell_type": "code",
   "execution_count": null,
   "metadata": {},
   "outputs": [],
   "source": []
  },
  {
   "cell_type": "code",
   "execution_count": null,
   "metadata": {},
   "outputs": [],
   "source": []
  },
  {
   "cell_type": "code",
   "execution_count": null,
   "metadata": {},
   "outputs": [],
   "source": []
  }
 ],
 "metadata": {
  "kernelspec": {
   "display_name": "Python 3.7.4 64-bit ('base': conda)",
   "language": "python",
   "name": "python37464bitbasecondac85d68c5cb5943e59bb9fdfd9e984070"
  },
  "language_info": {
   "codemirror_mode": {
    "name": "ipython",
    "version": 3
   },
   "file_extension": ".py",
   "mimetype": "text/x-python",
   "name": "python",
   "nbconvert_exporter": "python",
   "pygments_lexer": "ipython3",
   "version": "3.7.4"
  }
 },
 "nbformat": 4,
 "nbformat_minor": 2
}
