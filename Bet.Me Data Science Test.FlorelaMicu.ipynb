{
 "cells": [
  {
   "cell_type": "code",
   "execution_count": 1,
   "metadata": {},
   "outputs": [],
   "source": [
    "from scipy import stats\n",
    "from scipy.stats import binom"
   ]
  },
  {
   "cell_type": "code",
   "execution_count": 2,
   "metadata": {},
   "outputs": [],
   "source": [
    "# Question 1\n",
    "\n",
    "# 1.a) Estimate the probability for Player A to win the match\n",
    "# In order for player A to win the match he must win 5 frames out of 9, the probability for player A to win the first frame is 55% and \n",
    "# he still needs to win 4 more frames, a total of 5 frames\n",
    "\n",
    "X = stats.binom(9, 0.55)   # X is random variable\n"
   ]
  },
  {
   "cell_type": "code",
   "execution_count": 3,
   "metadata": {},
   "outputs": [
    {
     "name": "stdout",
     "output_type": "stream",
     "text": [
      " The probability for Player A to win the match is 0.6214209454492182\n"
     ]
    }
   ],
   "source": [
    "result = (X.pmf(5)) + (X.pmf(6)) + (X.pmf(7)) + (X.pmf(8)) + (X.pmf(9))\n",
    "print(\" The probability for Player A to win the match is\",result)"
   ]
  },
  {
   "cell_type": "code",
   "execution_count": 4,
   "metadata": {},
   "outputs": [
    {
     "name": "stdout",
     "output_type": "stream",
     "text": [
      "0.6125\n"
     ]
    }
   ],
   "source": [
    "# If I assume PA is probability of A winning and if the probability of winning the first frame is 55%, then A must win other \n",
    "# 4 frames, I can assume with a probability of 50% A will win other 4 frames\n",
    "PA=0.55 + 0.5**4 \n",
    "print(PA)"
   ]
  },
  {
   "cell_type": "code",
   "execution_count": 5,
   "metadata": {},
   "outputs": [
    {
     "name": "stdout",
     "output_type": "stream",
     "text": [
      "0.262662971484375\n"
     ]
    }
   ],
   "source": [
    "# 1.b) Estimate the probability for there to be at least 8 frames played in the match\n",
    "\n",
    "X = stats.binom(8, 0.55) # X is random Variable\n",
    "print(X.pmf(4))"
   ]
  },
  {
   "cell_type": "code",
   "execution_count": 6,
   "metadata": {},
   "outputs": [
    {
     "name": "stdout",
     "output_type": "stream",
     "text": [
      "the probability to be at least 8 frames played in the match is 56%\n"
     ]
    }
   ],
   "source": [
    "# If i use binomial distribution I find the probability too low. I will try another method\n",
    "\n",
    "# If there is 55% for A to win the 1st frame then for the remaining 8 frames, there is 50% probability for both A or B to win\n",
    "\n",
    "eight_frames = 0.55 + 0.5**3 * 0.5**4\n",
    "print(\"the probability to be at least 8 frames played in the match is \"  +  str (round(round(eight_frames,2)*100))+ \"%\")"
   ]
  },
  {
   "cell_type": "code",
   "execution_count": 7,
   "metadata": {},
   "outputs": [
    {
     "name": "stdout",
     "output_type": "stream",
     "text": [
      "0.5578125\n"
     ]
    }
   ],
   "source": [
    "print(eight_frames)"
   ]
  },
  {
   "cell_type": "code",
   "execution_count": 8,
   "metadata": {},
   "outputs": [
    {
     "name": "stdout",
     "output_type": "stream",
     "text": [
      "0.38749999999999996\n"
     ]
    }
   ],
   "source": [
    "# 1.c) What would be an appropriate level of odds (in decimal format) to offer for Player B to win the match.\n",
    "\n",
    "# p(A) + p(B) = 1 in my understanding probability of B winning is 1 minus probability of A winning\n",
    "\n",
    "print(1-PA)"
   ]
  },
  {
   "cell_type": "code",
   "execution_count": 9,
   "metadata": {},
   "outputs": [
    {
     "name": "stdout",
     "output_type": "stream",
     "text": [
      "0.3785790545507818\n"
     ]
    }
   ],
   "source": [
    "# If i use binomial distribution\n",
    "\n",
    "print(1-result)"
   ]
  },
  {
   "cell_type": "code",
   "execution_count": 10,
   "metadata": {},
   "outputs": [
    {
     "name": "stdout",
     "output_type": "stream",
     "text": [
      "an appropriate level of odds (in decimal format) to offer for Player B to win the match is 2.58\n"
     ]
    }
   ],
   "source": [
    "# I am confused by the way the question is formulated \n",
    "\n",
    "# I will try another method\n",
    "\n",
    "PB = 1 - PA\n",
    "\n",
    "WinB = 1/PB # the question is not asking what is the probability of player B to win \n",
    "\n",
    "print(\"an appropriate level of odds (in decimal format) to offer for Player B to win the match is \" + str(round(WinB,2)))\n"
   ]
  },
  {
   "cell_type": "code",
   "execution_count": 11,
   "metadata": {},
   "outputs": [
    {
     "name": "stdout",
     "output_type": "stream",
     "text": [
      "0.12551071508349182\n"
     ]
    }
   ],
   "source": [
    "# Question 2\n",
    "\n",
    "from scipy.stats import poisson\n",
    "# 2.a) Estimate the probability for Team A to win the match, Team A has an estimated goal expectancy of 1.5\n",
    "\n",
    "Y = stats.poisson(1.5) # Poission distribution with variable Y and P(Y = 3)\n",
    "print (Y.pmf(3))        "
   ]
  },
  {
   "cell_type": "code",
   "execution_count": 13,
   "metadata": {},
   "outputs": [
    {
     "name": "stdout",
     "output_type": "stream",
     "text": [
      "the probability for Team A to win the match is 44.22%\n"
     ]
    }
   ],
   "source": [
    "# I find the probability low, will try a different method\n",
    "\n",
    "TeamA = 1.5\n",
    "TeamB = 1.25\n",
    "\n",
    "TeamAWins = 1- poisson.cdf(k = TeamB, mu = TeamA)\n",
    "print(\"the probability for Team A to win the match is \"+ \"{:.2f}\".format(TeamAWins*100)+\"%\")"
   ]
  },
  {
   "cell_type": "code",
   "execution_count": 14,
   "metadata": {},
   "outputs": [
    {
     "name": "stdout",
     "output_type": "stream",
     "text": [
      "1.375\n"
     ]
    }
   ],
   "source": [
    "# 2.b) Estimate the probability for there to be at least 2.5 goals in the match\n",
    "\n",
    "Mean = (1.5+1.25)/2 # Finding Avg. as Avg goal achieved by both teams\n",
    "print(Mean)"
   ]
  },
  {
   "cell_type": "code",
   "execution_count": 15,
   "metadata": {},
   "outputs": [
    {
     "name": "stdout",
     "output_type": "stream",
     "text": [
      "0.8395064704454474\n"
     ]
    }
   ],
   "source": [
    "# 2.c) What would be an appropriate level of odds (in decimal format) to offer for the match to be drawn\n",
    "\n",
    "Y1 = stats.poisson(1.375) # Poisson Distribution, p(p>=2.5) = 1 - p(p<2.5)\n",
    "print(Y1.cdf(2.5))"
   ]
  },
  {
   "cell_type": "code",
   "execution_count": 16,
   "metadata": {},
   "outputs": [
    {
     "name": "stdout",
     "output_type": "stream",
     "text": [
      "0.48\n"
     ]
    }
   ],
   "source": [
    "# Question 3\n",
    "\n",
    "# In a tennis match, the probability of Player A winning a given point on serve in the first game of thematch is 0.52. \n",
    "# Find the probability that Player B wins the first game, given player A is serving\n",
    "\n",
    "PA = 0.52 \n",
    "PB = 1-PA\n",
    "print(PB)    # formula p(A) + p(B) = 1, p(B) = 1 - p(A)"
   ]
  },
  {
   "cell_type": "markdown",
   "metadata": {},
   "source": [
    "4) In a five horse race, the following table sets out the decimal odds for each horse to win the race. What should the price be for an exact 1-2-3 finish based on Horse A winning, Horse B coming 2nd and Horse C coming 3rd? Horse A 3.03 Horse B 6.66 Horse C 3.12 Horse D 6.25 Horse E 25\n",
    "\n",
    "We convert odds into probability as follows:\n",
    "\n",
    "Horse \tOdds\tProbability\n",
    "A\t  3.03\t    0.33\n",
    "B\t  6.66\t    0.15\n",
    "C\t  3.12\t    0.321\n",
    "D\t  6.25\t    0.16\n",
    "E\t  25\t    0.04\n",
    "\n",
    "Probability for A winning 1st = 0.33\n",
    "\n",
    "Next, we eliminate A and remain with B,C,D and E:\n",
    "\n",
    "\t\t\t        Revised Probability\n",
    "B\t6.66\t0.15\t0.223547\n",
    "C\t3.12\t0.321\t0.47839\n",
    "D\t6.25\t0.16\t0.23845\n",
    "E\t25\t    0.04\t0.059613\n",
    "\t\t    0.671\t1\n",
    "\n",
    "Probability for B winning 2nd is now 0.223547\n",
    "\n",
    "Next between C, D and E:\n",
    "\n",
    "\t\t\t\t    Revised Probability\n",
    "C\t3.12\t0.321\t0.47839\t 0.616123\n",
    "D\t6.25\t0.16\t0.23845\t 0.307102\n",
    "E\t25\t    0.04\t0.059613 0.076775\n",
    "\t\t\t        0.776453 1\n",
    "\n",
    "The probability for C winning after A, B goes is 0.616123.\n",
    "\n",
    "\n",
    "The probability for A 1st, B 2nd and C 3rd is:\n",
    "\n",
    "0.33*0.223547*0.616123 = 0.045452\n",
    "\n",
    "If we pay £1 the expected prob of getting the amount is 0.045452.\n",
    "\n",
    "Race price should be 1/0.045452 = £22.00138 (gbp) at least\n",
    "\n"
   ]
  }
 ],
 "metadata": {
  "kernelspec": {
   "display_name": "Python 3.7.4 64-bit ('base': conda)",
   "language": "python",
   "name": "python37464bitbasecondac85d68c5cb5943e59bb9fdfd9e984070"
  },
  "language_info": {
   "codemirror_mode": {
    "name": "ipython",
    "version": 3
   },
   "file_extension": ".py",
   "mimetype": "text/x-python",
   "name": "python",
   "nbconvert_exporter": "python",
   "pygments_lexer": "ipython3",
   "version": "3.7.4"
  }
 },
 "nbformat": 4,
 "nbformat_minor": 2
}
